{
 "cells": [
  {
   "cell_type": "code",
   "execution_count": 9,
   "metadata": {},
   "outputs": [
    {
     "name": "stdout",
     "output_type": "stream",
     "text": [
      "Você pagara uma taxa de: 200.0\n"
     ]
    }
   ],
   "source": [
    "#Qual o ano do carro. \n",
    "AnodoCarro = int(input(\"qual o ano do seu carro?\"))\n",
    "preçoCarro = float(input(\"qual o preço do seu carro?\"))\n",
    "#Calculo da taxa\n",
    "if(AnodoCarro < 1990):\n",
    "    print(\"Você pagara uma taxa de:\", preçoCarro * 0.01)\n",
    "else:\n",
    "    print(\"Você pagara uma taxa de:\", preçoCarro * 0.015) "
   ]
  },
  {
   "cell_type": "code",
   "execution_count": 4,
   "metadata": {},
   "outputs": [
    {
     "name": "stdout",
     "output_type": "stream",
     "text": [
      "Seu aumento de salário será de 40% e seu novo salário será de:  280000.0 seu aumento de salario será de:  80000.0\n"
     ]
    }
   ],
   "source": [
    "#Fazer a separação dos cargos\n",
    "cargo = int(input(\"Digite o codigo do seu cargo: \"))\n",
    "salario = float(input('Digite seu salário: '))\n",
    "#calculo do salario\n",
    "if(cargo == 101):\n",
    "    print('Seu aumento de salário será de 10% e seu novo salário será de: ', salario + (salario * 0.1), 'seu aumento de salario será de: ', (salario * 0.1))\n",
    "elif(cargo == 102):\n",
    "     print('Seu aumento de salário será de 20% e seu novo salário será de: ', salario + (salario * 0.2), 'seu aumento de salario será de: ', (salario * 0.2))\n",
    "elif (cargo == 103):\n",
    "     print('Seu aumento de salário será de 30% e seu novo salário será de: ', salario + (salario * 0.3), 'seu aumento de salario será de: ', (salario * 0.3))\n",
    "else:\n",
    "     print('Seu aumento de salário será de 40% e seu novo salário será de: ', salario + (salario * 0.4), 'seu aumento de salario será de: ', (salario * 0.4))\n",
    " \n",
    " "
   ]
  }
 ],
 "metadata": {
  "kernelspec": {
   "display_name": "Python 3",
   "language": "python",
   "name": "python3"
  },
  "language_info": {
   "codemirror_mode": {
    "name": "ipython",
    "version": 3
   },
   "file_extension": ".py",
   "mimetype": "text/x-python",
   "name": "python",
   "nbconvert_exporter": "python",
   "pygments_lexer": "ipython3",
   "version": "3.10.11"
  }
 },
 "nbformat": 4,
 "nbformat_minor": 2
}
